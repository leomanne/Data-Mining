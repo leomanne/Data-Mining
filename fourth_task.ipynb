{
 "cells": [
  {
   "cell_type": "markdown",
   "metadata": {},
   "source": [
    "# Fourth task: Prediction\n",
    "\n",
    "We begin, as always, by importing all the necessary libraries and loading the dataset."
   ]
  },
  {
   "cell_type": "code",
   "execution_count": 27,
   "metadata": {},
   "outputs": [],
   "source": [
    "import warnings\n",
    "import math\n",
    "import pandas as pd\n",
    "import numpy as np\n",
    "import matplotlib.pyplot as plt\n",
    "import scipy.stats as stats\n",
    "import seaborn as sns\n",
    "import unidecode\n",
    "\n",
    "from collections import defaultdict\n",
    "\n",
    "from scipy.stats import pearsonr, mode\n",
    "from scipy.spatial.distance import pdist, squareform\n",
    "from scipy.cluster.hierarchy import linkage, dendrogram\n",
    "\n",
    "from sklearn.cluster import AgglomerativeClustering, KMeans, DBSCAN, spectral_clustering, OPTICS\n",
    "from sklearn.metrics import silhouette_score\n",
    "from sklearn.model_selection import ParameterSampler\n",
    "from sklearn.neighbors import NearestNeighbors\n",
    "from sklearn.preprocessing import StandardScaler\n",
    "\n",
    "from pyclustering.cluster.optics import optics\n",
    "from pyclustering.cluster.cure import cure\n",
    "from pyclustering.utils import timedcall\n",
    "\n",
    "import os\n",
    "\n",
    "cyclists = pd.read_csv('./dataset/cyclists_trasformed.csv')\n",
    "races = pd.read_csv('./dataset/races_trasformed.csv')"
   ]
  },
  {
   "cell_type": "markdown",
   "metadata": {},
   "source": [
    "Following the specification we consider only the races from 2022 onward and we consider only top-20 placement to defining the learning task as a binary classification task: one class indicating top placement, the other vice versa."
   ]
  },
  {
   "cell_type": "code",
   "execution_count": 28,
   "metadata": {},
   "outputs": [
    {
     "name": "stdout",
     "output_type": "stream",
     "text": [
      "<class 'pandas.core.frame.DataFrame'>\n",
      "RangeIndex: 589865 entries, 0 to 589864\n",
      "Data columns (total 17 columns):\n",
      " #   Column             Non-Null Count   Dtype         \n",
      "---  ------             --------------   -----         \n",
      " 0   _url               589865 non-null  object        \n",
      " 1   name               589865 non-null  object        \n",
      " 2   points             589865 non-null  int64         \n",
      " 3   length             589865 non-null  float64       \n",
      " 4   climb_total        589865 non-null  int64         \n",
      " 5   profile            589865 non-null  int64         \n",
      " 6   startlist_quality  589865 non-null  int64         \n",
      " 7   date               589865 non-null  datetime64[ns]\n",
      " 8   position           589865 non-null  int64         \n",
      " 9   cyclist            589865 non-null  object        \n",
      " 10  cyclist_age        589865 non-null  int64         \n",
      " 11  is_tarmac          589865 non-null  bool          \n",
      " 12  cyclist_team       589865 non-null  object        \n",
      " 13  delta              589865 non-null  float64       \n",
      " 14  month              589865 non-null  int64         \n",
      " 15  season             589865 non-null  object        \n",
      " 16  race_intensity     589865 non-null  float64       \n",
      "dtypes: bool(1), datetime64[ns](1), float64(3), int64(7), object(5)\n",
      "memory usage: 72.6+ MB\n"
     ]
    }
   ],
   "source": [
    "# Ensure the 'date' column is in datetime format\n",
    "races['date'] = pd.to_datetime(races['date'])\n",
    "races.info()"
   ]
  },
  {
   "cell_type": "code",
   "execution_count": null,
   "metadata": {},
   "outputs": [
    {
     "name": "stdout",
     "output_type": "stream",
     "text": [
      "Training/Validation set:\n",
      "             name  points    length  climb_total  profile  startlist_quality  \\\n",
      "0  Tour de France     100  162000.0         1101        1               1241   \n",
      "1  Tour de France     100  162000.0         1101        1               1241   \n",
      "2  Tour de France     100  162000.0         1101        1               1241   \n",
      "3  Tour de France     100  162000.0         1101        1               1241   \n",
      "4  Tour de France     100  162000.0         1101        1               1241   \n",
      "\n",
      "   cyclist_age  is_tarmac  delta  month  season  race_intensity  top_20  \n",
      "0           22       True    0.0      7  summer        1.503613       1  \n",
      "1           27       True    0.0      7  summer        1.503613       1  \n",
      "2           24       True    0.0      7  summer        1.503613       1  \n",
      "3           30       True    0.0      7  summer        1.503613       1  \n",
      "4           27       True    0.0      7  summer        1.503613       1  \n"
     ]
    }
   ],
   "source": [
    "# Ensure the 'date' column is in datetime format\n",
    "races['date'] = pd.to_datetime(races['date'])\n",
    "\n",
    "# Filter the dataset into training/validation and test sets\n",
    "train_val_set = races[races['date'] < pd.Timestamp('2022-01-01')].copy()\n",
    "test_set = races[races['date'] >= pd.Timestamp('2022-01-01')].copy()\n",
    "\n",
    "# Define the binary classification label: 1 for top-20 placement, 0 otherwise\n",
    "train_val_set['top_20'] = (train_val_set['position'] <= 20).astype(int)\n",
    "test_set['top_20'] = (test_set['position'] <= 20).astype(int)\n",
    "\n",
    "# Drop unnecessary columns for training\n",
    "columns_to_drop = ['position', '_url', 'cyclist', 'cyclist_team']\n",
    "train_val_set = train_val_set.drop(columns=columns_to_drop, axis=1)\n",
    "test_set = test_set.drop(columns=columns_to_drop, axis=1)\n",
    "\n",
    "# Ensure no data leakage from 'date' (optional but recommended)\n",
    "train_val_set = train_val_set.drop('date', axis=1)\n",
    "test_set = test_set.drop('date', axis=1)\n",
    "\n",
    "# Print the resulting datasets for verification\n",
    "print(\"Training/Validation set:\")\n",
    "print(train_val_set.head())"
   ]
  },
  {
   "cell_type": "code",
   "execution_count": 30,
   "metadata": {},
   "outputs": [
    {
     "name": "stdout",
     "output_type": "stream",
     "text": [
      "\n",
      "Test set:\n",
      "               name  points    length  climb_total  profile  \\\n",
      "545  Tour de France     100  192900.0         3743        3   \n",
      "546  Tour de France     100  192900.0         3743        3   \n",
      "547  Tour de France     100  192900.0         3743        3   \n",
      "548  Tour de France     100  192900.0         3743        3   \n",
      "549  Tour de France     100  192900.0         3743        3   \n",
      "\n",
      "     startlist_quality  cyclist_age  is_tarmac  delta  month  season  \\\n",
      "545               1551           30       True    0.0      7  summer   \n",
      "546               1551           35       True   22.0      7  summer   \n",
      "547               1551           30       True   26.0      7  summer   \n",
      "548               1551           32       True   40.0      7  summer   \n",
      "549               1551           24       True   49.0      7  summer   \n",
      "\n",
      "     race_intensity  top_20  \n",
      "545        2.128635       1  \n",
      "546        2.128635       1  \n",
      "547        2.128635       1  \n",
      "548        2.128635       1  \n",
      "549        2.128635       1  \n"
     ]
    }
   ],
   "source": [
    "print(\"\\nTest set:\")\n",
    "print(test_set.head())"
   ]
  }
 ],
 "metadata": {
  "kernelspec": {
   "display_name": "Python 3 (ipykernel)",
   "language": "python",
   "name": "python3"
  },
  "language_info": {
   "codemirror_mode": {
    "name": "ipython",
    "version": 3
   },
   "file_extension": ".py",
   "mimetype": "text/x-python",
   "name": "python",
   "nbconvert_exporter": "python",
   "pygments_lexer": "ipython3",
   "version": "3.12.7"
  }
 },
 "nbformat": 4,
 "nbformat_minor": 2
}
