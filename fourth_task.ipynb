{
 "cells": [
  {
   "cell_type": "markdown",
   "metadata": {},
   "source": [
    "# Fourth Task: Prediction"
   ]
  },
  {
   "cell_type": "markdown",
   "metadata": {},
   "source": [
    "### Import of the needed libraries and the dataset"
   ]
  },
  {
   "cell_type": "code",
   "execution_count": 115,
   "metadata": {},
   "outputs": [],
   "source": [
    "import pandas as pd\n",
    "import numpy as np\n",
    "import matplotlib.pyplot as plt\n",
    "import tensorflow as tf\n",
    "from sklearn.ensemble import RandomForestClassifier\n",
    "from sklearn import tree\n",
    "import pydotplus \n",
    "from IPython.display import Image  \n",
    "from sklearn import metrics\n",
    "from sklearn.metrics import confusion_matrix, ConfusionMatrixDisplay\n",
    "from sklearn.metrics import classification_report\n",
    "from sklearn.metrics import accuracy_score, confusion_matrix\n",
    "from sklearn.naive_bayes import GaussianNB\n",
    "from sklearn.neighbors import KNeighborsClassifier\n",
    "from sklearn.ensemble import AdaBoostClassifier\n",
    "from sklearn.tree import DecisionTreeClassifier\n",
    "import matplotlib.pyplot as plt\n",
    "\n",
    "cyclists = pd.read_csv('./dataset/cyclists_trasformed.csv')\n",
    "races = pd.read_csv('./dataset/races_trasformed.csv')"
   ]
  },
  {
   "cell_type": "markdown",
   "metadata": {},
   "source": [
    "# Data Preparation"
   ]
  },
  {
   "cell_type": "markdown",
   "metadata": {},
   "source": [
    "Before employing the learning algorithms, we need to perform a few adjustments to our data. \n",
    "\n",
    "Firstly, it is necessary to merge the two dataset and delete not useful columns for the purpose.\n",
    "\n",
    "Then, we will add an attribute for specifying if a certain cyclist was in the first 20 position of a race or not. \n",
    "\n",
    "We delete:\n",
    "\n",
    "• *name* (coming from cyclist), since it is a repetition for *_url* in cyclist\n",
    "\n",
    "• *name* (coming from races), since it is a repetition for *_url* in races\n",
    "\n",
    "• *weight* and *height* (coming from cyclist), since these characteristics are combined in the *bmi* feature we created \n",
    "\n",
    "• *avg_position* and *avg_delta* (coming from cyclist), since it is better to consider more precise columns like *position* (see next) and *delta* from races\n",
    "\n",
    "• *position* (coming from races) since we consider only the first 20 we will get from the new column \n",
    "\n",
    "• *birth_year* (coming from cyclist) because it's redundant having *cyclist_age* from races\n",
    "\n",
    "• *cyclist_team* (coming from races) since we consider single cyclists\n",
    "\n",
    "• *date* (coming from races) whose format is: \"YYYY-MM-DD HH-MM-SS\". From it, we can extract the information we need: we exclude the \"HH-MM-SS\" and the \"MM-DD\" part because we can easily group races based on the *season* of the year (attribute that we already have). At the end, we only care about the year for splitting the races for the training set.\n",
    "\n",
    "We add:\n",
    "\n",
    "• *top_20*, having value =1 if the corresponding cyclist was in between these positions or, on the opposite, =0.\n",
    "\n",
    "**NB**: we drop *position* after creating the column *top_20*, since it is needed to fill the new one correctly."
   ]
  },
  {
   "cell_type": "code",
   "execution_count": null,
   "metadata": {},
   "outputs": [],
   "source": [
    "#Merge\n",
    "data_merged = pd.merge(races, cyclists, left_on='cyclist', right_on='_url', how='outer', indicator=True)\n",
    "\n",
    "#Filter non-corresponding rows: these cyclists never participate to a competition, so we don't consider them either for the prediction\n",
    "mismatched = data_merged[data_merged['_merge'] != 'both']\n",
    "print(f\"Number of mismatched entries: {len(mismatched)}\")\n",
    "print(mismatched)\n",
    "\n",
    "#Drop \n",
    "data_merged = data_merged[data_merged['_merge'] == 'both']\n",
    "\n",
    "#Drop the '_merge' column as it's no longer needed\n",
    "data_merged.drop('_merge', axis=1, inplace=True)\n"
   ]
  },
  {
   "cell_type": "markdown",
   "metadata": {},
   "source": [
    "Following the specification, we create the new attribute *top_20* where the value is '1' if in the row the attribute *position* ranges from 0 to 19, '0' otherwise. \n",
    "\n",
    "As stated before, we drop *position* since is useless from now on and modify *date* so that it contains only the year. \n"
   ]
  },
  {
   "cell_type": "code",
   "execution_count": null,
   "metadata": {},
   "outputs": [],
   "source": [
    "# Rename '_url_x' in 'race_url' and '_url_y' in 'cyclist_url'\n",
    "data_merged.rename(columns={'_url_x': 'race_url', '_url_y':'cyclist_url'}, inplace=True)\n",
    "\n",
    "#Delete useless columns we cited, except position\n",
    "data_merged = data_merged.drop(columns=['name_x', 'name_y', 'cyclist', 'weight', 'height', 'birth_year', 'avg_position', 'avg_delta', 'cyclist_team'])\n",
    "\n",
    "#Create 'top_20'\n",
    "data_merged['top_20'] = (data_merged['position'] < 20).astype(int)\n",
    "\n",
    "#Drop position \n",
    "data_merged = data_merged.drop(columns=['position']) \n",
    "\n",
    "data_merged.head()"
   ]
  },
  {
   "cell_type": "code",
   "execution_count": null,
   "metadata": {},
   "outputs": [],
   "source": [
    "data_merged.info()"
   ]
  },
  {
   "cell_type": "markdown",
   "metadata": {},
   "source": [
    "The learning algorithms require the categorical data to be transformed into numerical ones.\n",
    "\n",
    "In order to do this, we define the following function that assign a number for each different value inside the \n",
    "attribute starting from 1 and substitutes the categorical.  \n",
    "\n",
    "We cast the boolean values for *is_tarmac* to int. \n",
    "\n",
    "At the end, we are ready to define our 'train_set' and 'test_set' variables based on the year we get from *date*:\n",
    "\n",
    "- Training set: needed to train models.\n",
    "- Test set: need to test the model on never-seen data."
   ]
  },
  {
   "cell_type": "code",
   "execution_count": 119,
   "metadata": {},
   "outputs": [],
   "source": [
    "#Function to discretize the variables\n",
    "#Input: the dataset and the list of variables' names to discretize\n",
    "def discretize_data(dataset, variables):\n",
    "    for variable in variables:\n",
    "        #Get the unique variable's values\n",
    "        var = sorted(dataset[variable].unique())\n",
    "        #Generate a mapping from the variable's values to the number representation  \n",
    "        mapping = dict(zip(var, range(0, len(var) + 1)))\n",
    "        dataset[variable] = dataset[variable].map(mapping).astype(int)\n",
    "    return dataset"
   ]
  },
  {
   "cell_type": "code",
   "execution_count": 120,
   "metadata": {},
   "outputs": [],
   "source": [
    "#Attribute to transform\n",
    "categorical_variables = ['race_url', 'season', 'cyclist_url', 'nationality', 'continent']\n",
    "data_merged = discretize_data(data_merged, categorical_variables)\n",
    "\n",
    "#Other casting\n",
    "data_merged['is_tarmac'] = data_merged['is_tarmac'].astype(int)\n",
    "data_merged['date'] = pd.DatetimeIndex(data_merged['date']).year\n",
    "\n",
    "#Training set\n",
    "train_data = data_merged[data_merged['date'] < 2022]\n",
    "#Test set\n",
    "test_data = data_merged[data_merged['date'] >= 2022]\n"
   ]
  },
  {
   "cell_type": "code",
   "execution_count": null,
   "metadata": {},
   "outputs": [],
   "source": [
    "train_data.head()"
   ]
  },
  {
   "cell_type": "code",
   "execution_count": null,
   "metadata": {},
   "outputs": [],
   "source": [
    "train_data.info()"
   ]
  },
  {
   "cell_type": "code",
   "execution_count": null,
   "metadata": {},
   "outputs": [],
   "source": [
    "test_data.head()"
   ]
  },
  {
   "cell_type": "code",
   "execution_count": null,
   "metadata": {},
   "outputs": [],
   "source": [
    "test_data.info()"
   ]
  },
  {
   "cell_type": "markdown",
   "metadata": {},
   "source": [
    "For our machine learning purpose, the dataset has to be divided into two parts:\n",
    "\n",
    "- Features (x): The input data containing the information needed by the model to make predictions (every attribute except *top_20*)\n",
    "- Target (y): The output data you want the model to predict (precisely *top_20*).\n",
    "\n",
    "So, we create two variables for both *train_data* and *test_data*."
   ]
  },
  {
   "cell_type": "code",
   "execution_count": 125,
   "metadata": {},
   "outputs": [],
   "source": [
    "#Feature(x) and target(y) for training\n",
    "x_train = train_data.drop(columns=['top_20'])\n",
    "y_train = train_data['top_20']\n",
    "\n",
    "#Feature(x) and target(y) for testing\n",
    "x_test = test_data.drop(columns=['top_20'])\n",
    "y_test = test_data['top_20']\n"
   ]
  },
  {
   "cell_type": "markdown",
   "metadata": {},
   "source": [
    "# Learning Algorithms"
   ]
  },
  {
   "cell_type": "markdown",
   "metadata": {},
   "source": [
    "The models we choose can be divided in different categories:\n",
    "\n",
    "1) Tree-Based Models (Decision Tree, Random Forest)\n",
    "\n",
    "2) AdaBoost\n",
    "\n",
    "3) Naïve Bayes\n",
    "\n",
    "4) K-Nearest Neighbors (KNN)\n",
    "\n",
    "5) Neural Network\n"
   ]
  },
  {
   "cell_type": "markdown",
   "metadata": {},
   "source": [
    "`NB`: We tried to implement XGBoost, Rule-Based and SVM but after 15 minutes the methods were still running. "
   ]
  },
  {
   "cell_type": "code",
   "execution_count": 126,
   "metadata": {},
   "outputs": [],
   "source": [
    "def report_scores(test_label, test_pred):\n",
    "    print(classification_report(test_label, \n",
    "                            test_pred, \n",
    "                            target_names=['Non-Top 20', 'Top 20']))"
   ]
  },
  {
   "cell_type": "markdown",
   "metadata": {},
   "source": [
    "## Tree-Based Models (Decision Tree, Random Forest, AdaBoost)\n"
   ]
  },
  {
   "cell_type": "markdown",
   "metadata": {},
   "source": [
    "### Decision Tree Model"
   ]
  },
  {
   "cell_type": "code",
   "execution_count": 127,
   "metadata": {},
   "outputs": [],
   "source": [
    "#Creating and configuring the Decision Tree\n",
    "dt = tree.DecisionTreeClassifier(\n",
    "    criterion='gini',               #Use the Gini index to evaluate the purity of splits\n",
    "    splitter='best',                #Splits the nodes by choosing the best split\n",
    "    class_weight='balanced',         \n",
    "    max_depth=5,                    #Limit tree depth to 5 levels\n",
    "    min_samples_split=3,            #A node must have at least 3 samples to be split\n",
    "    min_samples_leaf=4,             #Each leaf must contain at least 4 examples\n",
    "    random_state=42                 #Ensures repeatability of results\n",
    ")\n",
    "\n",
    "#Train the model\n",
    "dt = dt.fit(x_train, y_train)"
   ]
  },
  {
   "cell_type": "markdown",
   "metadata": {},
   "source": [
    "Visualizing the actual Decision Tree obtained: "
   ]
  },
  {
   "cell_type": "code",
   "execution_count": 128,
   "metadata": {},
   "outputs": [],
   "source": [
    "#To visualize the Decision Tree, you must intsall GraphViz\n",
    "#MacOs: brew install graphviz\n",
    "#Linux: sudo apt-get install graphviz\n",
    "#Windows: Install from here https://graphviz.org/download/ \n",
    "#and add the following enviroment variable (the path can change)\n",
    "#import os\n",
    "#os.environ[\"PATH\"] += os.pathsep + 'C:\\Program Files (x86)\\Graphviz2.38/bin/'"
   ]
  },
  {
   "cell_type": "code",
   "execution_count": null,
   "metadata": {},
   "outputs": [],
   "source": [
    "dot_data = tree.export_graphviz(dt, out_file=None, \n",
    "                                feature_names=list(x_train.columns),  \n",
    "                                class_names=['Non-Top 20', 'Top 20'],  \n",
    "                                filled=True, rounded=True)  \n",
    "graph = pydotplus.graph_from_dot_data(dot_data)  \n",
    "Image(graph.create_png())\n"
   ]
  },
  {
   "cell_type": "code",
   "execution_count": null,
   "metadata": {},
   "outputs": [],
   "source": [
    "#Prediction over test dataset employing Decision Tree\n",
    "test_pred_dt = dt.predict(x_test)    \n",
    "\n",
    "#Compute the performance of the model\n",
    "report_scores(y_test, test_pred_dt)"
   ]
  },
  {
   "cell_type": "markdown",
   "metadata": {},
   "source": [
    "How to read the result:\n",
    "- **Non-Top 20**: \n",
    "    - Precision: 0.95 - Of all the predictions that the model classified as ‘Non-Top 20’, 95% were correct.\n",
    "    - Recall: 0.75: 75% of the riders actually ‘Non-Top 20’ were correctly identified by the model.\n",
    "    - F1-Score: 0.84 - Represents the balance between precision and recall, and is very high for this class, indicating that the model is excellent at correctly distinguishing ‘Non-Top 20’ cyclists.\n",
    "    - Support: 30.466 - Indicates the total number of true samples belonging to the ‘Non-Top 20’ class.\n",
    "- **Top 20**: \n",
    "    - Precision: 0.33 - Of all predictions classified as ‘Top 20’, only 33% are correct. This indicates that the model tends to include false positives.\n",
    "    - Recall: 0.77 - 77% of the cyclists actually in the ‘Top 20’ were recognised correctly. \n",
    "    - F1-Score: 0.46 - Being the balance between precision and recall, the mid-low value suggests that the model has difficulty with the ‘Top 20’ class.\n",
    "    - Support: 4.940 - Indicates the total number of true samples belonging to the ‘Top 20’ class.\n",
    "- **Accuracy** \n",
    "    - Accuracy: 0.75 - Percentage of correct predictions out of the total data. Although the value is high, it is influenced by the strong dominance of the Non-Top 20 class (majority class).\n",
    "- **Macro Average**\n",
    "    - Precision: 0.64 - Arithmetic mean of the precision of the two classes.\n",
    "    - Recall: 0.76 - Arithmetic mean of the recall of the two classes. Low due to extremely low recall for the ‘Top 20’ class.\n",
    "    - F1-Score: 0.65 - Arithmetic mean of the F1-Score of the two classes. Reflects the difficulty of the model in handling the ‘Top 20’ class.\n",
    "- **Weighted Average**.\n",
    "    - Precision: 0.87 - Weighted average of the precision, considering the support (size) of each class.\n",
    "    - Recall: 0.75 - Weighted average of recall, strongly influenced by the high recall of the ‘Non-Top 20’ class.\n",
    "    - F1-Score: 0.79 - Weighted average of the F1-Score."
   ]
  },
  {
   "cell_type": "code",
   "execution_count": null,
   "metadata": {},
   "outputs": [],
   "source": [
    "#Compute and visualize Confusion Matrix\n",
    "cm = confusion_matrix(y_test, test_pred_dt)\n",
    "print(\"Confusion Matrix:\")\n",
    "print(cm)\n",
    "disp = ConfusionMatrixDisplay(confusion_matrix=cm, display_labels=dt.classes_)\n",
    "disp.plot()\n",
    "plt.show()"
   ]
  },
  {
   "cell_type": "markdown",
   "metadata": {},
   "source": [
    "How to read the results:\n",
    "\n",
    "- True Negatives (TN): 22794 - Correct predictions for class 0.\n",
    "\n",
    "- False Positives (FP): 7672 - Incorrect predictions that indicated 1 instead of 0.\n",
    "\n",
    "- False Negatives (FN): 1132 - Incorrect predictions that indicated 0 instead of 1.\n",
    "\n",
    "- True Positives (TP): 3808 - Correct predictions for class 1."
   ]
  },
  {
   "cell_type": "markdown",
   "metadata": {},
   "source": [
    "### Random Forest Model"
   ]
  },
  {
   "cell_type": "code",
   "execution_count": 132,
   "metadata": {},
   "outputs": [],
   "source": [
    "#Random Forest definition and training\n",
    "rf = RandomForestClassifier(\n",
    "    n_estimators=100, #Number of trees in the forest\n",
    "    criterion='gini', #Measure to evaluate the purity of the split\n",
    "    class_weight='balanced', #Automatically calculates inverse weights to class frequencies (The class with fewer samples receives a higher weight)\n",
    "    max_depth=10, #Maximum depth of trees\n",
    "    min_samples_split=5, #Minimum number of samples to split a node\n",
    "    random_state=42, #Ensures repeatability of results\n",
    ")\n",
    "\n",
    "#Model training\n",
    "rf = rf.fit(x_train, y_train)"
   ]
  },
  {
   "cell_type": "code",
   "execution_count": null,
   "metadata": {},
   "outputs": [],
   "source": [
    "#Prediction employing Random Forest\n",
    "test_pred_rf = rf.predict(x_test)    \n",
    "\n",
    "#Compute the performance of the model\n",
    "report_scores(y_test, test_pred_rf)"
   ]
  },
  {
   "cell_type": "markdown",
   "metadata": {},
   "source": [
    "How to read the result:\n",
    "- **Non-Top 20**: \n",
    "    - Precision: 0.96 - Of all the predictions that the model classified as ‘Non-Top 20’, 88% were correct.\n",
    "    - Recall: 0.81: 81% of the riders actually ‘Non-Top 20’ were correctly identified by the model.\n",
    "    - F1-Score: 0.88 - Represents the balance between precision and recall, and is very high for this class, indicating that the model is excellent at correctly distinguishing ‘Non-Top 20’ cyclists.\n",
    "    - Support: 30.466 - Indicates the total number of true samples belonging to the ‘Non-Top 20’ class.\n",
    "- **Top 20**: \n",
    "    - Precision: 0.40 - Of all predictions classified as ‘Top 20’, only 40% are correct. This indicates that the model tends to include false positives.\n",
    "    - Recall: 0.79 - 79% of the cyclists actually in the ‘Top 20’ were recognised correctly. \n",
    "    - F1-Score: 0.53 - Being the balance between precision and recall, the mid-low value suggests that the model has difficulty with the ‘Top 20’ class.\n",
    "    - Support: 4.940 - Indicates the total number of true samples belonging to the ‘Top 20’ class.\n",
    "- **Accuracy** \n",
    "    - Accuracy: 0.81 - Percentage of correct predictions out of the total data. Although the value is high, it is influenced by the strong dominance of the Non-Top 20 class (majority class).\n",
    "- **Macro Average**\n",
    "    - Precision: 0.68 - Arithmetic mean of the precision of the two classes.\n",
    "    - Recall: 0.80 - Arithmetic mean of the recall of the two classes. \n",
    "    - F1-Score: 0.71 - Arithmetic mean of the F1-Score of the two classes. \n",
    "- **Weighted Average**.\n",
    "    - Precision: 0.88 - Weighted average of the precision, considering the support (size) of each class.\n",
    "    - Recall: 0.81 - Weighted average of recall, strongly influenced by the high recall of the ‘Non-Top 20’ class.\n",
    "    - F1-Score: 0.83 - Weighted average of the F1-Score."
   ]
  },
  {
   "cell_type": "code",
   "execution_count": null,
   "metadata": {},
   "outputs": [],
   "source": [
    "#Compute and visualize Confusion Matrix\n",
    "cm = confusion_matrix(y_test, test_pred_rf)\n",
    "print(\"Confusion Matrix:\")\n",
    "print(cm)\n",
    "disp = ConfusionMatrixDisplay(confusion_matrix=cm, display_labels=rf.classes_)\n",
    "disp.plot()\n",
    "plt.show()"
   ]
  },
  {
   "cell_type": "markdown",
   "metadata": {},
   "source": [
    "How to read the results:\n",
    "\n",
    "- True Negatives (TN): 24684 - Correct predictions for class 0.\n",
    "\n",
    "- False Positives (FP): 5782 - Incorrect predictions that indicated 1 instead of 0.\n",
    "\n",
    "- False Negatives (FN): 1042 - Incorrect predictions that indicated 0 instead of 1.\n",
    "\n",
    "- True Positives (TP): 3898 - Correct predictions for class 1."
   ]
  },
  {
   "cell_type": "markdown",
   "metadata": {},
   "source": [
    "### Final comparisons\n"
   ]
  },
  {
   "cell_type": "code",
   "execution_count": null,
   "metadata": {},
   "outputs": [],
   "source": [
    "#Dictionary containing trained models\n",
    "models = {\n",
    "    \"Decision Tree\": dt,          \n",
    "    \"Random Forest\": rf   \n",
    "}\n",
    "\n",
    "#Iteration on models to calculate and print metrics\n",
    "for model_name, model in models.items():\n",
    "    y_test_pred = model.predict(x_test)\n",
    "    acc = accuracy_score(y_test, y_test_pred)\n",
    "    conf = confusion_matrix(y_test, y_test_pred)\n",
    "    report = classification_report(y_test, y_test_pred, target_names=[\"Non Top 20\", \"Top 20\"], zero_division=0)\n",
    "    print(f\"\\n--- {model_name} ---\")\n",
    "    print(f\"Accuracy: {acc:.4f}\")\n",
    "    print(f\"Confusion Matrix:\\n{conf}\")\n",
    "    print(f\"Classification Report:\\n{report}\")\n"
   ]
  },
  {
   "cell_type": "markdown",
   "metadata": {},
   "source": [
    "## AdaBoost"
   ]
  },
  {
   "cell_type": "code",
   "execution_count": null,
   "metadata": {},
   "outputs": [],
   "source": [
    "# Train AdaBoost with default settings\n",
    "\n",
    "clf = AdaBoostClassifier()\n",
    "clf.fit(x_train, y_train)\n",
    "test_pred_clf = clf.predict(x_test)\n",
    "print(classification_report(y_test, test_pred_clf, target_names=['Non-Top 20', 'Top 20']))"
   ]
  },
  {
   "cell_type": "markdown",
   "metadata": {},
   "source": [
    "How to read the result:\n",
    "- **Non-Top 20**: \n",
    "    - Precision: 0.88 - Of all the predictions that the model classified as ‘Non-Top 20’, 88% were correct.\n",
    "    - Recall: 0.98: 98% of the riders actually ‘Non-Top 20’ were correctly identified by the model.\n",
    "    - F1-Score: 0.93 - Represents the balance between precision and recall, and is very high for this class, indicating that the model is excellent at correctly distinguishing ‘Non-Top 20’ cyclists.\n",
    "    - Support: 30.466 - Indicates the total number of true samples belonging to the ‘Non-Top 20’ class.\n",
    "- **Top 20**: \n",
    "    - Precision: 0.63 - Of all predictions classified as ‘Top 20’, only 63% are correct. This indicates that the model tends to include false positives.\n",
    "    - Recall: 0.19 - Only 19% of the cyclists actually in the ‘Top 20’ were recognised correctly. This indicates that the model is not effective in capturing true positives in this class.\n",
    "    - F1-Score: 0.29 - Being the balance between precision and recall, the low value suggests that the model has difficulty with the ‘Top 20’ class.\n",
    "    - Support: 4.940 - Indicates the total number of true samples belonging to the ‘Top 20’ class.\n",
    "- **Accuracy** \n",
    "    - Accuracy: 0.87 - Percentage of correct predictions out of the total data. Although the value is high, it is influenced by the strong dominance of the Non-Top 20 class (majority class).\n",
    "- **Macro Average**\n",
    "    - Precision: 0.75 - Arithmetic mean of the precision of the two classes.\n",
    "    - Recall: 0.58 - Arithmetic mean of the recall of the two classes. Low due to extremely low recall for the ‘Top 20’ class.\n",
    "    - F1-Score: 0.61 - Arithmetic mean of the F1-Score of the two classes. Reflects the difficulty of the model in handling the ‘Top 20’ class.\n",
    "- **Weighted Average**.\n",
    "    - Precision: 0.87 - Weighted average of the precision, considering the support (size) of each class.\n",
    "    - Recall: 0.87 - Weighted average of recall, strongly influenced by the high recall of the ‘Non-Top 20’ class.\n",
    "    - F1-Score: 0.84 - Weighted average of the F1-Score."
   ]
  },
  {
   "cell_type": "code",
   "execution_count": null,
   "metadata": {},
   "outputs": [],
   "source": [
    "#Compute and visualize Confusion Matrix\n",
    "cm = confusion_matrix(y_test, test_pred_clf)\n",
    "print(\"Confusion Matrix:\")\n",
    "print(cm)\n",
    "disp = ConfusionMatrixDisplay(confusion_matrix=cm, display_labels=rf.classes_)\n",
    "disp.plot()\n",
    "plt.show()"
   ]
  },
  {
   "cell_type": "markdown",
   "metadata": {},
   "source": [
    "How to read the results:\n",
    "\n",
    "- True Negatives (TN): 29909 - Correct predictions for class 0.\n",
    "\n",
    "- False Positives (FP): 557 - Incorrect predictions that indicated 1 instead of 0.\n",
    "\n",
    "- False Negatives (FN): 4011 - Incorrect predictions that indicated 0 instead of 1.\n",
    "\n",
    "- True Positives (TP): 929 - Correct predictions for class 1."
   ]
  },
  {
   "cell_type": "code",
   "execution_count": null,
   "metadata": {},
   "outputs": [],
   "source": [
    "# Train AdaBoost with a custom base estimator and hyperparameters\n",
    "\n",
    "base = DecisionTreeClassifier(max_depth=5)\n",
    "clf = AdaBoostClassifier(estimator=base, n_estimators=200, learning_rate=0.1)\n",
    "clf.fit(x_train, y_train)\n",
    "test_pred_clf = clf.predict(x_test)\n",
    "print(\"Custom AdaBoost Classifier with DecisionTree base:\")\n",
    "print(classification_report(y_test, test_pred_clf, target_names=['Non-Top 20', 'Top 20']))"
   ]
  },
  {
   "cell_type": "markdown",
   "metadata": {},
   "source": [
    "How to read the result:\n",
    "- **Non-Top 20**: \n",
    "    - Precision: 0.92 - Of all the predictions that the model classified as ‘Non-Top 20’, 92% were correct.\n",
    "    - Recall: 0.95: 95% of the riders actually ‘Non-Top 20’ were correctly identified by the model.\n",
    "    - F1-Score: 0.93 - Represents the balance between precision and recall, and is very high for this class, indicating that the model is excellent at correctly distinguishing ‘Non-Top 20’ cyclists.\n",
    "    - Support: 30.466 - Indicates the total number of true samples belonging to the ‘Non-Top 20’ class.\n",
    "- **Top 20**: \n",
    "    - Precision: 0.59 - Of all predictions classified as ‘Top 20’, only 59% are correct. This indicates that the model tends to include false positives.\n",
    "    - Recall: 0.47 - Only 47% of the cyclists actually in the ‘Top 20’ were recognised correctly. \n",
    "    - F1-Score: 0.52 - Being the balance between precision and recall, the low value suggests that the model has difficulty with the ‘Top 20’ class.\n",
    "    - Support: 4.940 - Indicates the total number of true samples belonging to the ‘Top 20’ class.\n",
    "- **Accuracy** \n",
    "    - Accuracy: 0.88 - Percentage of correct predictions out of the total data. Although the value is high, it is influenced by the strong dominance of the Non-Top 20 class (majority class).\n",
    "- **Macro Average**\n",
    "    - Precision: 0.75 - Arithmetic mean of the precision of the two classes.\n",
    "    - Recall: 0.71 - Arithmetic mean of the recall of the two classes. Low due to extremely low recall for the ‘Top 20’ class.\n",
    "    - F1-Score: 0.73 - Arithmetic mean of the F1-Score of the two classes. Reflects the difficulty of the model in handling the ‘Top 20’ class.\n",
    "- **Weighted Average**.\n",
    "    - Precision: 0.87 - Weighted average of the precision, considering the support (size) of each class.\n",
    "    - Recall: 0.88 - Weighted average of recall, strongly influenced by the high recall of the ‘Non-Top 20’ class.\n",
    "    - F1-Score: 0.87 - Weighted average of the F1-Score."
   ]
  },
  {
   "cell_type": "code",
   "execution_count": null,
   "metadata": {},
   "outputs": [],
   "source": [
    "#Compute and visualize Confusion Matrix\n",
    "cm = confusion_matrix(y_test, test_pred_clf)\n",
    "print(\"Confusion Matrix:\")\n",
    "print(cm)\n",
    "disp = ConfusionMatrixDisplay(confusion_matrix=cm, display_labels=rf.classes_)\n",
    "disp.plot()\n",
    "plt.show()"
   ]
  },
  {
   "cell_type": "markdown",
   "metadata": {},
   "source": [
    "How to read the results:\n",
    "\n",
    "- True Negatives (TN): 28804 - Correct predictions for class 0.\n",
    "\n",
    "- False Positives (FP): 1662 - Incorrect predictions that indicated 1 instead of 0.\n",
    "\n",
    "- False Negatives (FN): 2594 - Incorrect predictions that indicated 0 instead of 1.\n",
    "\n",
    "- True Positives (TP): 2346 - Correct predictions for class 1."
   ]
  },
  {
   "cell_type": "markdown",
   "metadata": {},
   "source": [
    "## Naïve Bayes"
   ]
  },
  {
   "cell_type": "markdown",
   "metadata": {},
   "source": [
    "Naive Bayes is a probabilistic machine learning algorithm based on Bayes' theorem. \n",
    "\n",
    "The algorithm assumes that the features are independent of each other, a simplification that is rarely true in real-world scenarios but often works well in practice. Naive Bayes calculates the probability of a data point belonging to a particular class by considering the prior probability of the class and the likelihood of the features given the class. \n",
    "\n",
    "The \"naive\" assumption of feature independence allows the algorithm to be computationally efficient and easy to implement. \n",
    "\n",
    "Gaussian Naive Bayes, a common variant, assumes that the features follow a Gaussian (normal) distribution and is particularly suited for continuous data. "
   ]
  },
  {
   "cell_type": "code",
   "execution_count": null,
   "metadata": {},
   "outputs": [],
   "source": [
    "# Naïve Bayes training\n",
    "gnb = GaussianNB()\n",
    "gnb.fit(x_train, y_train)  \n",
    "\n",
    "#Prediction employing Naive Bayes\n",
    "test_pred_gnb = gnb.predict(x_test)  \n",
    "\n",
    "#Compute the performance of the model\n",
    "report_scores(y_test, test_pred_gnb)\n"
   ]
  },
  {
   "cell_type": "markdown",
   "metadata": {},
   "source": [
    "How to read the result:\n",
    "- **Non-Top 20**: \n",
    "    - Precision: 0.88 - Of all the predictions that the model classified as ‘Non-Top 20’, 88% were correct.\n",
    "    - Recall: 0.88: 88% of the riders actually ‘Non-Top 20’ were correctly identified by the model.\n",
    "    - F1-Score: 0.88 - Represents the balance between precision and recall, and is very high for this class, indicating that the model is excellent at correctly distinguishing ‘Non-Top 20’ cyclists.\n",
    "    - Support: 30.466 - Indicates the total number of true samples belonging to the ‘Non-Top 20’ class.\n",
    "- **Top 20**: \n",
    "    - Precision: 0.24 - Of all predictions classified as ‘Top 20’, only 33% are correct. This indicates that the model tends to include false positives.\n",
    "    - Recall: 0.23 - 77% of the cyclists actually in the ‘Top 20’ were recognised correctly. \n",
    "    - F1-Score: 0.23 - Being the balance between precision and recall, the mid-low value suggests that the model has difficulty with the ‘Top 20’ class.\n",
    "    - Support: 4.940 - Indicates the total number of true samples belonging to the ‘Top 20’ class.\n",
    "- **Accuracy** \n",
    "    - Accuracy: 0.79 - Percentage of correct predictions out of the total data. Although the value is high, it is influenced by the strong dominance of the Non-Top 20 class (majority class).\n",
    "- **Macro Average**\n",
    "    - Precision: 0.56 - Arithmetic mean of the precision of the two classes.\n",
    "    - Recall: 0.56 - Arithmetic mean of the recall of the two classes. Low due to extremely low recall for the ‘Top 20’ class.\n",
    "    - F1-Score: 0.56 - Arithmetic mean of the F1-Score of the two classes. Reflects the difficulty of the model in handling the ‘Top 20’ class.\n",
    "- **Weighted Average**.\n",
    "    - Precision: 0.79 - Weighted average of the precision, considering the support (size) of each class.\n",
    "    - Recall: 0.79 - Weighted average of recall, strongly influenced by the high recall of the ‘Non-Top 20’ class.\n",
    "    - F1-Score: 0.79 - Weighted average of the F1-Score."
   ]
  },
  {
   "cell_type": "code",
   "execution_count": null,
   "metadata": {},
   "outputs": [],
   "source": [
    "#Compute and visualize Confusion Matrix\n",
    "cm = confusion_matrix(y_test, test_pred_gnb)\n",
    "print(\"Confusion Matrix:\")\n",
    "print(cm)\n",
    "disp = ConfusionMatrixDisplay(confusion_matrix=cm, display_labels=dt.classes_)\n",
    "disp.plot()\n",
    "plt.show()"
   ]
  },
  {
   "cell_type": "markdown",
   "metadata": {},
   "source": [
    "How to read the results:\n",
    "\n",
    "- True Negatives (TN): 26782 - Correct predictions for class 0.\n",
    "\n",
    "- False Positives (FP): 3684 - Incorrect predictions that indicated 1 instead of 0.\n",
    "\n",
    "- False Negatives (FN): 3795 - Incorrect predictions that indicated 0 instead of 1.\n",
    "\n",
    "- True Positives (TP): 1145 - Correct predictions for class 1."
   ]
  },
  {
   "cell_type": "markdown",
   "metadata": {},
   "source": [
    "## K-Nearest Neighbors (KNN)"
   ]
  },
  {
   "cell_type": "markdown",
   "metadata": {},
   "source": [
    "n_neighbors=3: Considera i 3 vicini più prossimi per classificare un nuovo campione.\n",
    "algorithm='ball_tree': Algoritmo che ottimizza la ricerca dei vicini più prossimi.\n",
    "metric='minkowski': Misura la distanza Euclidea tra campioni."
   ]
  },
  {
   "cell_type": "code",
   "execution_count": null,
   "metadata": {},
   "outputs": [],
   "source": [
    "#Definition of KNN model with 3 neighbours and ‘ball_tree’ algorithm\n",
    "knn = KNeighborsClassifier(n_neighbors=3, algorithm='ball_tree', metric='minkowski')\n",
    "\n",
    "#Train KNN on the training data\n",
    "knn.fit(x_train, y_train) \n",
    "\n",
    "#Prediction\n",
    "test_pred_knn = knn.predict(x_test)    # Predictions on the test set\n",
    "\n",
    "#Compute the performance of the model\n",
    "report_scores(y_test, test_pred_knn)\n"
   ]
  },
  {
   "cell_type": "markdown",
   "metadata": {},
   "source": [
    "How to read the result:\n",
    "- **Non-Top 20**: \n",
    "    - Precision: 0.90 - Of all the predictions that the model classified as ‘Non-Top 20’, 90% were correct.\n",
    "    - Recall: 0.86: 86% of the riders actually ‘Non-Top 20’ were correctly identified by the model.\n",
    "    - F1-Score: 0.88 - Represents the balance between precision and recall, and is very high for this class, indicating that the model is excellent at correctly distinguishing ‘Non-Top 20’ cyclists.\n",
    "    - Support: 30.466 - Indicates the total number of true samples belonging to the ‘Non-Top 20’ class.\n",
    "- **Top 20**: \n",
    "    - Precision: 0.30 - Of all predictions classified as ‘Top 20’, only 63% are correct. This indicates that the model tends to include false positives.\n",
    "    - Recall: 0.38 - Only 38% of the cyclists actually in the ‘Top 20’ were recognised correctly. This indicates that the model is not effective in capturing true positives in this class.\n",
    "    - F1-Score: 0.34 - Being the balance between precision and recall, the low value suggests that the model has difficulty with the ‘Top 20’ class.\n",
    "    - Support: 4.940 - Indicates the total number of true samples belonging to the ‘Top 20’ class.\n",
    "- **Accuracy** \n",
    "    - Accuracy: 0.79 - Percentage of correct predictions out of the total data. Although the value is high, it is influenced by the strong dominance of the Non-Top 20 class (majority class).\n",
    "- **Macro Average**\n",
    "    - Precision: 0.60 - Arithmetic mean of the precision of the two classes.\n",
    "    - Recall: 0.62 - Arithmetic mean of the recall of the two classes. Low due to extremely low recall for the ‘Top 20’ class.\n",
    "    - F1-Score: 0.61 - Arithmetic mean of the F1-Score of the two classes. Reflects the difficulty of the model in handling the ‘Top 20’ class.\n",
    "- **Weighted Average**.\n",
    "    - Precision: 0.81 - Weighted average of the precision, considering the support (size) of each class.\n",
    "    - Recall: 0.79 - Weighted average of recall, strongly influenced by the high recall of the ‘Non-Top 20’ class.\n",
    "    - F1-Score: 0.80 - Weighted average of the F1-Score."
   ]
  },
  {
   "cell_type": "code",
   "execution_count": null,
   "metadata": {},
   "outputs": [],
   "source": [
    "#Compute and visualize Confusion Matrix\n",
    "cm = confusion_matrix(y_test, test_pred_knn)\n",
    "print(\"Confusion Matrix:\")\n",
    "print(cm)\n",
    "disp = ConfusionMatrixDisplay(confusion_matrix=cm, display_labels=dt.classes_)\n",
    "disp.plot()\n",
    "plt.show()"
   ]
  },
  {
   "cell_type": "markdown",
   "metadata": {},
   "source": [
    "How to read the results:\n",
    "\n",
    "- True Negatives (TN): 26211 - Correct predictions for class 0.\n",
    "\n",
    "- False Positives (FP): 4255 - Incorrect predictions that indicated 1 instead of 0.\n",
    "\n",
    "- False Negatives (FN): 3075 - Incorrect predictions that indicated 0 instead of 1.\n",
    "\n",
    "- True Positives (TP): 1865 - Correct predictions for class 1."
   ]
  },
  {
   "cell_type": "markdown",
   "metadata": {},
   "source": [
    "## Neural Network"
   ]
  },
  {
   "cell_type": "code",
   "execution_count": null,
   "metadata": {},
   "outputs": [],
   "source": [
    "# Convert labels to NumPy arrays\n",
    "y_train = np.asarray(y_train).astype('float32').reshape((-1, 1))  # Convert training labels to NumPy arrays\n",
    "y_test = np.asarray(y_test).astype('float32').reshape((-1, 1))    # Convert test labels to NumPy arrays\n",
    "\n",
    "# Define the neural network model\n",
    "model = tf.keras.models.Sequential([\n",
    "    tf.keras.layers.Dense(128, activation='relu', input_shape=(x_train.shape[1],)),  # Input layer\n",
    "    tf.keras.layers.Dropout(0.2),  # Dropout to prevent overfitting\n",
    "    tf.keras.layers.Dense(128, activation='relu'),  # Hidden layer\n",
    "    tf.keras.layers.Dropout(0.2),  # Dropout to improve generalization\n",
    "    tf.keras.layers.Dense(1, activation='sigmoid')  # Output layer for binary classification\n",
    "])\n",
    "\n",
    "# Compile the model\n",
    "model.compile(optimizer='adamax',                       # Adam optimizer\n",
    "              loss='mean_squared_error',             # Binary cross-entropy for binary classification\n",
    "              metrics=['accuracy'])                   # Track accuracy during training and evaluation\n",
    "\n",
    "# Train the model\n",
    "history = model.fit(\n",
    "    x_train, y_train,                 # Training data\n",
    "    epochs=80,                        # Number of training epochs\n",
    "    batch_size=256,                    # Batch size\n",
    "    validation_split=0.2          # Verbose output for training progress\n",
    ")"
   ]
  },
  {
   "cell_type": "code",
   "execution_count": null,
   "metadata": {},
   "outputs": [],
   "source": [
    "# Plot the training and validation accuracy\n",
    "acc = history.history['accuracy']\n",
    "val_acc = history.history['val_accuracy']\n",
    "loss = history.history['loss']\n",
    "val_loss = history.history['val_loss']\n",
    "epochs = range(1, len(acc) + 1)\n",
    "plt.plot(epochs, acc, 'bo', label='Training Acc')\n",
    "plt.plot(epochs, val_acc, 'b', label='Validation Acc')\n",
    "plt.title('Training and validation Acc')\n",
    "plt.xlabel('Epochs')\n",
    "plt.ylabel('Acc')\n",
    "plt.legend()\n",
    "plt.show()"
   ]
  },
  {
   "cell_type": "code",
   "execution_count": null,
   "metadata": {},
   "outputs": [],
   "source": [
    "# Make predictions\n",
    "test_pred_proba = model.predict(x_test)\n",
    "test_pred = (test_pred_proba > 0.5).astype('int32')\n",
    "\n",
    "#Compute the performance of the model\n",
    "report_scores(y_test, test_pred)\n"
   ]
  },
  {
   "cell_type": "markdown",
   "metadata": {},
   "source": [
    "How to read the result:\n",
    "- **Non-Top 20**: \n",
    "    - Precision: 0.96 - Of all the predictions that the model classified as ‘Non-Top 20’, 96% were correct.\n",
    "    - Recall: 0.81: 81% of the riders actually ‘Non-Top 20’ were correctly identified by the model.\n",
    "    - F1-Score: 0.88 - Represents the balance between precision and recall, and is very high for this class, indicating that the model is excellent at correctly distinguishing ‘Non-Top 20’ cyclists.\n",
    "    - Support: 30.466 - Indicates the total number of true samples belonging to the ‘Non-Top 20’ class.\n",
    "- **Top 20**: \n",
    "    - Precision: 0.40 - Of all predictions classified as ‘Top 20’, only 40% are correct. This indicates that the model tends to include false positives.\n",
    "    - Recall: 0.79 - Only 79% of the cyclists actually in the ‘Top 20’ were recognised correctly. This indicates that the model is not effective in capturing true positives in this class.\n",
    "    - F1-Score: 0.53 - Being the balance between precision and recall, the low value suggests that the model has difficulty with the ‘Top 20’ class.\n",
    "    - Support: 4.940 - Indicates the total number of true samples belonging to the ‘Top 20’ class.\n",
    "- **Accuracy** \n",
    "    - Accuracy: 0.81 - Percentage of correct predictions out of the total data. Although the value is high, it is influenced by the strong dominance of the Non-Top 20 class (majority class).\n",
    "- **Macro Average**\n",
    "    - Precision: 0.68 - Arithmetic mean of the precision of the two classes.\n",
    "    - Recall: 0.80 - Arithmetic mean of the recall of the two classes. Low due to extremely low recall for the ‘Top 20’ class.\n",
    "    - F1-Score: 0.71 - Arithmetic mean of the F1-Score of the two classes. Reflects the difficulty of the model in handling the ‘Top 20’ class.\n",
    "- **Weighted Average**.\n",
    "    - Precision: 0.88 - Weighted average of the precision, considering the support (size) of each class.\n",
    "    - Recall: 0.81 - Weighted average of recall, strongly influenced by the high recall of the ‘Non-Top 20’ class.\n",
    "    - F1-Score: 0.83 - Weighted average of the F1-Score."
   ]
  },
  {
   "cell_type": "code",
   "execution_count": null,
   "metadata": {},
   "outputs": [],
   "source": [
    "#Compute and visualize Confusion Matrix\n",
    "cm = confusion_matrix(y_test, test_pred_proba)\n",
    "print(\"Confusion Matrix:\")\n",
    "print(cm)\n",
    "disp = ConfusionMatrixDisplay(confusion_matrix=cm, display_labels=dt.classes_)\n",
    "disp.plot()\n",
    "plt.show()"
   ]
  },
  {
   "cell_type": "markdown",
   "metadata": {},
   "source": [
    "How to read the results:\n",
    "\n",
    "- True Negatives (TN): 24684 - Correct predictions for class 0.\n",
    "\n",
    "- False Positives (FP): 5782 - Incorrect predictions that indicated 1 instead of 0.\n",
    "\n",
    "- False Negatives (FN): 1042 - Incorrect predictions that indicated 0 instead of 1.\n",
    "\n",
    "- True Positives (TP): 3898 - Correct predictions for class 1."
   ]
  },
  {
   "cell_type": "markdown",
   "metadata": {},
   "source": [
    "## Comparison between all models"
   ]
  },
  {
   "cell_type": "markdown",
   "metadata": {},
   "source": [
    "- **ROC curve**: Displays the relationship between the True Positive Rate and the False Positive Rate. A curve closer to the upper left corner indicates better performance.\n",
    "\n",
    "- **AUC (Area Under Curve)**: A higher AUC value indicates a better predictive ability of the model. The maximum value is 1 (perfect classifier), while 0.5 indicates a random model."
   ]
  },
  {
   "cell_type": "code",
   "execution_count": null,
   "metadata": {},
   "outputs": [],
   "source": [
    "from sklearn import metrics\n",
    "import matplotlib.pyplot as plt\n",
    "\n",
    "plt.figure(0).clf()  # Clear the current figure\n",
    "\n",
    "# Decision Tree\n",
    "fpr, tpr, thresh = metrics.roc_curve(y_test, test_pred_dt)\n",
    "auc = metrics.roc_auc_score(y_test, test_pred_dt)\n",
    "plt.plot(fpr, tpr, label=\"DecisionTree, auc=\" + str(round(auc, 3)))\n",
    "\n",
    "# Random Forest\n",
    "fpr, tpr, thresh = metrics.roc_curve(y_test, test_pred_rf)\n",
    "auc = metrics.roc_auc_score(y_test, test_pred_rf)\n",
    "plt.plot(fpr, tpr, label=\"RandomForest, auc=\" + str(round(auc, 3)))\n",
    "\n",
    "# AdaBoost\n",
    "fpr, tpr, thresh = metrics.roc_curve(y_test, test_pred_clf)\n",
    "auc = metrics.roc_auc_score(y_test, test_pred_clf)\n",
    "plt.plot(fpr,tpr,label=\"AdaBoost, auc=\"+str(auc))\n",
    "\n",
    "# Naive Bayes\n",
    "fpr, tpr, thresh = metrics.roc_curve(y_test, test_pred_gnb)\n",
    "auc = metrics.roc_auc_score(y_test, test_pred_gnb)\n",
    "plt.plot(fpr, tpr, label=\"Naive Bayes, auc=\" + str(round(auc, 3)))\n",
    "\n",
    "\n",
    "# K-Nearest Neighbor\n",
    "fpr, tpr, thresh = metrics.roc_curve(y_test, test_pred_knn)\n",
    "auc = metrics.roc_auc_score(y_test, test_pred_knn)\n",
    "plt.plot(fpr, tpr, label=\"KNN, auc=\" + str(round(auc, 3)))\n",
    "\n",
    "# Neural Network\n",
    "test_pred_nn = model.predict(x_test).ravel()  # Predict probabilities for Neural Network\n",
    "fpr, tpr, thresh = metrics.roc_curve(y_test, test_pred_nn)\n",
    "auc = metrics.roc_auc_score(y_test, test_pred_nn)\n",
    "plt.plot(fpr, tpr, label=\"Neural Network, auc=\" + str(round(auc, 3)))\n",
    "\n",
    "# Layout\n",
    "plt.xlabel('False Positive Rate')\n",
    "plt.ylabel('True Positive Rate')\n",
    "plt.title('Comparison of ROC Curves')\n",
    "plt.legend(loc=0)\n",
    "plt.show()\n"
   ]
  },
  {
   "cell_type": "markdown",
   "metadata": {},
   "source": [
    "# Task 5: Explanation"
   ]
  },
  {
   "cell_type": "markdown",
   "metadata": {},
   "source": [
    "La feature importance misura il contributo di ciascuna variabile indipendente (feature) alla predizione del modello.\n",
    "\n",
    "Le feature con i valori più alti sono quelle che il modello considera più rilevanti per fare predizioni.\n",
    "Confronta le feature importanti con i pattern emersi durante la fase di esplorazione e clustering. Ad esempio:\n",
    "Le feature più importanti evidenziate dal modello corrispondono a quelle più significative emerse dal clustering?\n",
    "Ci sono nuove feature importanti che non erano evidenti in precedenza?\n",
    "\n",
    "La rule explanation implica la comprensione delle regole decisionali usate dal modello. È particolarmente utile per modelli basati su alberi decisionali (Decision Tree, Random Forest).\n",
    "Le regole decisionali del modello corrispondono ai pattern scoperti durante l'esplorazione dei dati?\n",
    "Sono comprensibili e coerenti con l'intuizione (esempio: gare con salite alte sono più difficili)?\n",
    "Ci sono regole inaspettate o poco intuitive?\n",
    "\n",
    "I counterfactual instances spiegano cosa sarebbe successo se alcune variabili fossero state modificate. Ti permettono di rispondere a domande del tipo: “Cosa sarebbe successo se il ciclista avesse avuto un peso inferiore o gareggiato in una stagione diversa?”\n",
    "I counterfactual instances rivelano la sensibilità del modello a diverse feature.\n",
    "Verifica se le modifiche richieste sono realistiche e sensate rispetto ai dati (esempio: un ciclista che deve migliorare drasticamente il tempo di scalata potrebbe non essere realistico).\n",
    "Confronta i counterfactuals con i pattern emersi nella fase di analisi iniziale.\n",
    "\n",
    "Analisi Comparativa\n",
    "Dopo aver completato le analisi sopra:\n",
    "\n",
    "Fidelity e Complessità:\n",
    "La feature importance, le regole decisionali e i counterfactuals sono coerenti con i dati di addestramento e i risultati del clustering?\n",
    "Sono comprensibili o eccessivamente complesse?\n",
    "Nuovi Pattern:\n",
    "Il modello ha evidenziato nuove relazioni tra le variabili (esempio: l’importanza della superficie tarmac o della stagione)?\n",
    "Pattern Inattesi:\n",
    "Ci sono risultati che non ti aspettavi? Ad esempio, una feature considerata importante dal modello non era stata identificata come rilevante durante l’esplorazione iniziale.\n"
   ]
  },
  {
   "cell_type": "markdown",
   "metadata": {},
   "source": [
    "### Decision Tree"
   ]
  },
  {
   "cell_type": "markdown",
   "metadata": {},
   "source": [
    "#### Feature importance"
   ]
  },
  {
   "cell_type": "code",
   "execution_count": 158,
   "metadata": {},
   "outputs": [
    {
     "name": "stdout",
     "output_type": "stream",
     "text": [
      "delta                0.707846\n",
      "race_intensity       0.098949\n",
      "climb_total          0.077642\n",
      "date                 0.071769\n",
      "bmi                  0.020569\n",
      "startlist_quality    0.014791\n",
      "race_url             0.008434\n",
      "season               0.000000\n",
      "nationality          0.000000\n",
      "cyclist_url          0.000000\n",
      "is_tarmac            0.000000\n",
      "month                0.000000\n",
      "points               0.000000\n",
      "cyclist_age          0.000000\n",
      "profile              0.000000\n",
      "length               0.000000\n",
      "continent            0.000000\n",
      "dtype: float64\n"
     ]
    },
    {
     "data": {
      "image/png": "[encoded data removed]",
      "text/plain": [
       "<Figure size 640x480 with 1 Axes>"
      ]
     },
     "metadata": {},
     "output_type": "display_data"
    }
   ],
   "source": [
    "# Supponiamo di avere un Random Forest addestrato: dt\n",
    "feature_importance = pd.Series(dt.feature_importances_, index=x_train.columns)\n",
    "feature_importance = feature_importance.sort_values(ascending=False)\n",
    "\n",
    "# Visualizzazione\n",
    "feature_importance.plot(kind='bar', title=\"Feature Importance\")\n",
    "print(feature_importance)"
   ]
  },
  {
   "cell_type": "markdown",
   "metadata": {},
   "source": [
    "SHAP"
   ]
  },
  {
   "cell_type": "code",
   "execution_count": null,
   "metadata": {},
   "outputs": [],
   "source": [
    "from xgboost import XGBClassifier\n",
    "from sklearn.model_selection import RandomizedSearchCV\n",
    "from sklearn.metrics import classification_report\n",
    "from datasets import load_dataset\n",
    "import pandas\n",
    "\n",
    "from transformations import center_and_scale, drop_boolean\n",
    "\n",
    "#noi abbiamo data_merged\n",
    "train_dataset = load_dataset(\"mstz/adult\", \"income\")[\"train\"].to_pandas()\n",
    "test_dataset = load_dataset(\"mstz/adult\", \"income\")[\"test\"].to_pandas()\n",
    "train_labels = train_dataset[\"over_threshold\"]\n",
    "test_labels = test_dataset[\"over_threshold\"]\n",
    "train_data = train_dataset.drop(\"over_threshold\", axis=\"columns\", inplace=False).select_dtypes(include=\"number\")\n",
    "test_data = test_dataset.drop(\"over_threshold\", axis=\"columns\", inplace=False).select_dtypes(include=\"number\")\n",
    "\n",
    "\n",
    "full_dataset = pandas.concat((train_data, test_data))\n",
    "_, normalization_scalers_dataset = center_and_scale(full_dataset)\n",
    "\n",
    "# apply normalization\n",
    "for feature, scaler in normalization_scalers_dataset.items():\n",
    "    train_data[feature] = scaler.transform(train_dataset[feature].values.reshape(-1, 1))\n",
    "    test_data[feature] = scaler.transform(test_dataset[feature].values.reshape(-1, 1))\n",
    "\n",
    "# model\n",
    "base_model = XGBClassifier()\n",
    "hyperparameters = {\n",
    "    \"n_estimators\": [25, 100, 250],\n",
    "    \"max_depth\": [2, 3],\n",
    "    \"learning_rate\": [1, 0.1, 0.001, 0.0001]\n",
    "}\n",
    "search = RandomizedSearchCV(base_model, hyperparameters, cv=5)\n",
    "search.fit(train_data, train_labels)\n",
    "model = search.best_estimator_\n",
    "train_labels_model = model.predict(train_data)\n",
    "test_labels_model = model.predict(test_data)\n",
    "\n",
    "validation = classification_report(test_labels, test_labels_model, output_dict=True)"
   ]
  },
  {
   "cell_type": "code",
   "execution_count": null,
   "metadata": {},
   "outputs": [],
   "source": [
    "import shap\n",
    "\n",
    "interventional_explanation_algorithm = shap.TreeExplainer(\n",
    "    model=model,\n",
    "    data=train_data,                       # perturb on a causal model induced on perturbation data\n",
    "    feature_perturbation=\"interventional\"  # use a causal model\n",
    ")\n",
    "\n",
    "distributional_explanation_algorithm = shap.TreeExplainer(\n",
    "    model=model,\n",
    "    feature_perturbation=\"tree_path_dependent\"  # condition on the distribution learned on the train data\n",
    ")\n",
    "\n",
    "interventional_explanations = interventional_explanation_algorithm(explanation_data)\n",
    "distributional_explanations = distributional_explanation_algorithm(explanation_data)\n",
    "\n",
    "explanations[\"shap_interventional\"] = interventional_explanations.values\n",
    "explanations[\"shap_distributional\"] = distributional_explanations.values\n",
    "\n",
    "shap.plots.beeswarm(interventional_explanations)"
   ]
  },
  {
   "cell_type": "code",
   "execution_count": null,
   "metadata": {},
   "outputs": [],
   "source": [
    "shap.plots.beeswarm(distributional_explanations)"
   ]
  },
  {
   "cell_type": "markdown",
   "metadata": {},
   "source": [
    "#### Rule explanation"
   ]
  },
  {
   "cell_type": "code",
   "execution_count": null,
   "metadata": {},
   "outputs": [],
   "source": [
    "from sklearn.tree import plot_tree\n",
    "import matplotlib.pyplot as plt\n",
    "\n",
    "plt.figure(figsize=(30, 20))\n",
    "plot_tree(dt, feature_names=x_train.columns, class_names=['Non-Top 20', 'Top 20'], filled=True)\n",
    "plt.show()"
   ]
  },
  {
   "cell_type": "code",
   "execution_count": null,
   "metadata": {},
   "outputs": [],
   "source": [
    "from sklearn.tree import export_text\n",
    "# Stampare la rappresentazione testuale dell'albero\n",
    "tree_rules = export_text(dt, feature_names=list(x_train.columns))\n",
    "print(tree_rules)"
   ]
  },
  {
   "cell_type": "markdown",
   "metadata": {},
   "source": [
    "#### Counterfactual instances"
   ]
  },
  {
   "cell_type": "code",
   "execution_count": null,
   "metadata": {},
   "outputs": [],
   "source": [
    "import numpy as np\n",
    "\n",
    "# Copia dell'esempio e modifica della caratteristica 'climb_total'\n",
    "modified_example = x_test.iloc[0].copy()\n",
    "modified_example['climb_total'] += 500  # Aggiungi 500 metri di salita\n",
    "\n",
    "# Fare in modo che l'input abbia la forma corretta per il modello\n",
    "modified_example = np.array(modified_example).reshape(1, -1)  # Reshape per avere la forma (1, 17)\n",
    "\n",
    "# Predizione con l'esempio modificato\n",
    "modified_pred = model.predict(modified_example)\n",
    "print(f\"Predizione modificata: {modified_pred}\")\n"
   ]
  }
 ],
 "metadata": {
  "kernelspec": {
   "display_name": "env",
   "language": "python",
   "name": "python3"
  },
  "language_info": {
   "codemirror_mode": {
    "name": "ipython",
    "version": 3
   },
   "file_extension": ".py",
   "mimetype": "text/x-python",
   "name": "python",
   "nbconvert_exporter": "python",
   "pygments_lexer": "ipython3",
   "version": "3.12.0"
  }
 },
 "nbformat": 4,
 "nbformat_minor": 2
}
